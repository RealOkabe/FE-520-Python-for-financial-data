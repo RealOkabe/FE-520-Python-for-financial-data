{
 "cells": [
  {
   "cell_type": "markdown",
   "metadata": {
    "toc": true
   },
   "source": [
    "<h1>Table of Contents<span class=\"tocSkip\"></span></h1>\n",
    "<div class=\"toc\"><ul class=\"toc-item\"><li><span><a href=\"#Parsing-Financial-Transactions-(30-pts)\" data-toc-modified-id=\"Parsing-Financial-Transactions-(30-pts)-1\"><span class=\"toc-item-num\">1&nbsp;&nbsp;</span>Parsing Financial Transactions (30 pts)</a></span><ul class=\"toc-item\"><li><span><a href=\"#\" data-toc-modified-id=\"-1.1\"><span class=\"toc-item-num\">1.1&nbsp;&nbsp;</span></a></span><ul class=\"toc-item\"><li><span><a href=\"#What-is-the-total-amount-deposited-for-account-12345?\" data-toc-modified-id=\"What-is-the-total-amount-deposited-for-account-12345?-1.1.1\"><span class=\"toc-item-num\">1.1.1&nbsp;&nbsp;</span>What is the total amount deposited for account 12345?</a></span></li><li><span><a href=\"#What-is-the-final-balance-of-account-67890,-assuming-it-started-at-zero?\" data-toc-modified-id=\"What-is-the-final-balance-of-account-67890,-assuming-it-started-at-zero?-1.1.2\"><span class=\"toc-item-num\">1.1.2&nbsp;&nbsp;</span>What is the final balance of account 67890, assuming it started at zero?</a></span></li><li><span><a href=\"#How-many-transactions-occurred-in-February-2023?\" data-toc-modified-id=\"How-many-transactions-occurred-in-February-2023?-1.1.3\"><span class=\"toc-item-num\">1.1.3&nbsp;&nbsp;</span>How many transactions occurred in February 2023?</a></span></li></ul></li><li><span><a href=\"#\" data-toc-modified-id=\"-1.2\"><span class=\"toc-item-num\">1.2&nbsp;&nbsp;</span></a></span><ul class=\"toc-item\"><li><span><a href=\"#Extract-and-Correct-the-Transaction-Date\" data-toc-modified-id=\"Extract-and-Correct-the-Transaction-Date-1.2.1\"><span class=\"toc-item-num\">1.2.1&nbsp;&nbsp;</span>Extract and Correct the Transaction Date</a></span></li><li><span><a href=\"#Calculate-and-Format-the-Transaction-Amount\" data-toc-modified-id=\"Calculate-and-Format-the-Transaction-Amount-1.2.2\"><span class=\"toc-item-num\">1.2.2&nbsp;&nbsp;</span>Calculate and Format the Transaction Amount</a></span></li></ul></li></ul></li><li><span><a href=\"#Practise-Sequence-Operation-And-String-Method-(20-pts)\" data-toc-modified-id=\"Practise-Sequence-Operation-And-String-Method-(20-pts)-2\"><span class=\"toc-item-num\">2&nbsp;&nbsp;</span>Practise Sequence Operation And String Method (20 pts)</a></span><ul class=\"toc-item\"><li><span><a href=\"#Given-the-string-s-=-&quot;PythonLearner&quot;,-extract-and-print-the-first-6-characters.\" data-toc-modified-id=\"Given-the-string-s-=-&quot;PythonLearner&quot;,-extract-and-print-the-first-6-characters.-2.1\"><span class=\"toc-item-num\">2.1&nbsp;&nbsp;</span>Given the string s = \"PythonLearner\", extract and print the first 6 characters.</a></span></li><li><span><a href=\"#For-the-string-s-=-&quot;PythonLearner&quot;,-create-a-new-string-where-the-first-and-last-characters-have-been-exchanged.\" data-toc-modified-id=\"For-the-string-s-=-&quot;PythonLearner&quot;,-create-a-new-string-where-the-first-and-last-characters-have-been-exchanged.-2.2\"><span class=\"toc-item-num\">2.2&nbsp;&nbsp;</span>For the string s = \"PythonLearner\", create a new string where the first and last characters have been exchanged.</a></span></li><li><span><a href=\"#For-the-string-s-=-&quot;PythonLearner&quot;,-find-and-print-the-index-of-the-first-occurrence-of-the-letter-&quot;n&quot;.\" data-toc-modified-id=\"For-the-string-s-=-&quot;PythonLearner&quot;,-find-and-print-the-index-of-the-first-occurrence-of-the-letter-&quot;n&quot;.-2.3\"><span class=\"toc-item-num\">2.3&nbsp;&nbsp;</span>For the string s = \"PythonLearner\", find and print the index of the first occurrence of the letter \"n\".</a></span></li><li><span><a href=\"#For-the-string-s-=-&quot;PythonLearner&quot;,-find-and-print-the-index-of-the-second-occurrence-of-the-letter-&quot;n&quot;.\" data-toc-modified-id=\"For-the-string-s-=-&quot;PythonLearner&quot;,-find-and-print-the-index-of-the-second-occurrence-of-the-letter-&quot;n&quot;.-2.4\"><span class=\"toc-item-num\">2.4&nbsp;&nbsp;</span>For the string s = \"PythonLearner\", find and print the index of the second occurrence of the letter \"n\".</a></span></li><li><span><a href=\"#Given-the-string-s-=-&quot;PythonLearner&quot;,-create-a-new-string-where-all-occurrences-of-the-letter-&quot;n&quot;-are-replaced-with-the-letter-&quot;m&quot;.\" data-toc-modified-id=\"Given-the-string-s-=-&quot;PythonLearner&quot;,-create-a-new-string-where-all-occurrences-of-the-letter-&quot;n&quot;-are-replaced-with-the-letter-&quot;m&quot;.-2.5\"><span class=\"toc-item-num\">2.5&nbsp;&nbsp;</span>Given the string s = \"PythonLearner\", create a new string where all occurrences of the letter \"n\" are replaced with the letter \"m\".</a></span></li><li><span><a href=\"#For-the-string-s-=-&quot;PythonProgramming&quot;,-split-the-string-into-two-equal-halves.-If-the-string-has-an-odd-length,-the-first-half-should-have-one-more-character-than-the-second-half.\" data-toc-modified-id=\"For-the-string-s-=-&quot;PythonProgramming&quot;,-split-the-string-into-two-equal-halves.-If-the-string-has-an-odd-length,-the-first-half-should-have-one-more-character-than-the-second-half.-2.6\"><span class=\"toc-item-num\">2.6&nbsp;&nbsp;</span>For the string s = \"PythonProgramming\", split the string into two equal halves. If the string has an odd length, the first half should have one more character than the second half.</a></span></li><li><span><a href=\"#Given-the-string-s-=-&quot;Python&quot;,-t-=-&quot;lool&quot;,-check-if-the-string-is-a-palindrome.-A-palindrome-is-a-word,-phrase,-number,-or-other-sequences-of-characters-that-reads-the-same-forward-and-backward-(ignoring-spaces,-punctuation,-and-capitalization).\" data-toc-modified-id=\"Given-the-string-s-=-&quot;Python&quot;,-t-=-&quot;lool&quot;,-check-if-the-string-is-a-palindrome.-A-palindrome-is-a-word,-phrase,-number,-or-other-sequences-of-characters-that-reads-the-same-forward-and-backward-(ignoring-spaces,-punctuation,-and-capitalization).-2.7\"><span class=\"toc-item-num\">2.7&nbsp;&nbsp;</span>Given the string s = \"Python\", t = \"lool\", check if the string is a palindrome. A palindrome is a word, phrase, number, or other sequences of characters that reads the same forward and backward (ignoring spaces, punctuation, and capitalization).</a></span></li></ul></li><li><span><a href=\"#Practise-List-(20-pts)\" data-toc-modified-id=\"Practise-List-(20-pts)-3\"><span class=\"toc-item-num\">3&nbsp;&nbsp;</span>Practise List (20 pts)</a></span><ul class=\"toc-item\"><li><span><a href=\"#Given-a-list-fruits-=-[&quot;apple&quot;,-&quot;banana&quot;,-&quot;cherry&quot;],-add-the-fruit-&quot;orange&quot;-to-the-end-of-the-list.\" data-toc-modified-id=\"Given-a-list-fruits-=-[&quot;apple&quot;,-&quot;banana&quot;,-&quot;cherry&quot;],-add-the-fruit-&quot;orange&quot;-to-the-end-of-the-list.-3.1\"><span class=\"toc-item-num\">3.1&nbsp;&nbsp;</span>Given a list fruits = [\"apple\", \"banana\", \"cherry\"], add the fruit \"orange\" to the end of the list.</a></span></li><li><span><a href=\"#Given-a-list-colors-=-[&quot;red&quot;,-&quot;blue&quot;,-&quot;green&quot;],-insert-the-color-&quot;yellow&quot;-at-the-second-position.\" data-toc-modified-id=\"Given-a-list-colors-=-[&quot;red&quot;,-&quot;blue&quot;,-&quot;green&quot;],-insert-the-color-&quot;yellow&quot;-at-the-second-position.-3.2\"><span class=\"toc-item-num\">3.2&nbsp;&nbsp;</span>Given a list colors = [\"red\", \"blue\", \"green\"], insert the color \"yellow\" at the second position.</a></span></li><li><span><a href=\"#Given-a-list-items-=-[10,-20,-30,-40,-50],-remove-the-third-item-from-the-list.\" data-toc-modified-id=\"Given-a-list-items-=-[10,-20,-30,-40,-50],-remove-the-third-item-from-the-list.-3.3\"><span class=\"toc-item-num\">3.3&nbsp;&nbsp;</span>Given a list items = [10, 20, 30, 40, 50], remove the third item from the list.</a></span></li><li><span><a href=\"#remove-empty-strings-from-the-list-of-strings.\" data-toc-modified-id=\"remove-empty-strings-from-the-list-of-strings.-3.4\"><span class=\"toc-item-num\">3.4&nbsp;&nbsp;</span>remove empty strings from the list of strings.</a></span></li><li><span><a href=\"#add-new-item-to-list-after-a-specified-item\" data-toc-modified-id=\"add-new-item-to-list-after-a-specified-item-3.5\"><span class=\"toc-item-num\">3.5&nbsp;&nbsp;</span>add new item to list after a specified item</a></span></li><li><span><a href=\"#List-copy\" data-toc-modified-id=\"List-copy-3.6\"><span class=\"toc-item-num\">3.6&nbsp;&nbsp;</span>List copy</a></span></li><li><span><a href=\"#List-copy\" data-toc-modified-id=\"List-copy-3.7\"><span class=\"toc-item-num\">3.7&nbsp;&nbsp;</span>List copy</a></span></li><li><span><a href=\"#Shallow-Copy-and-Deep-Copy\" data-toc-modified-id=\"Shallow-Copy-and-Deep-Copy-3.8\"><span class=\"toc-item-num\">3.8&nbsp;&nbsp;</span>Shallow Copy and Deep Copy</a></span></li></ul></li><li><span><a href=\"#Financial-Data-Analysis-Using-Dictionaries-(30-pts)\" data-toc-modified-id=\"Financial-Data-Analysis-Using-Dictionaries-(30-pts)-4\"><span class=\"toc-item-num\">4&nbsp;&nbsp;</span>Financial Data Analysis Using Dictionaries (30 pts)</a></span><ul class=\"toc-item\"><li><span><a href=\"#\" data-toc-modified-id=\"-4.1\"><span class=\"toc-item-num\">4.1&nbsp;&nbsp;</span></a></span><ul class=\"toc-item\"><li><span><a href=\"#Update-Stock-Prices\" data-toc-modified-id=\"Update-Stock-Prices-4.1.1\"><span class=\"toc-item-num\">4.1.1&nbsp;&nbsp;</span>Update Stock Prices</a></span></li><li><span><a href=\"#Adjust-Yearly-Highs-and-Lows\" data-toc-modified-id=\"Adjust-Yearly-Highs-and-Lows-4.1.2\"><span class=\"toc-item-num\">4.1.2&nbsp;&nbsp;</span>Adjust Yearly Highs and Lows</a></span></li><li><span><a href=\"#Generate-Insights-Report\" data-toc-modified-id=\"Generate-Insights-Report-4.1.3\"><span class=\"toc-item-num\">4.1.3&nbsp;&nbsp;</span>Generate Insights Report</a></span></li></ul></li><li><span><a href=\"#\" data-toc-modified-id=\"-4.2\"><span class=\"toc-item-num\">4.2&nbsp;&nbsp;</span></a></span></li></ul></li></ul></div>"
   ]
  },
  {
   "cell_type": "markdown",
   "metadata": {},
   "source": [
    "# Parsing Financial Transactions (30 pts)"
   ]
  },
  {
   "cell_type": "markdown",
   "metadata": {},
   "source": [
    "## "
   ]
  },
  {
   "cell_type": "markdown",
   "metadata": {},
   "source": [
    "* A detailed financial transaction log is provided as a single string. \\\n",
    "  Each transaction in the log includes the transaction type (Deposit D(d) or Withdrawal W(w)), the account number (a five-digit code), the amount in USD, and the transaction date, all separated by commas. \\\n",
    "  Transactions are separated from each other by a semicolon (;). \\\n",
    "* log = \"  D,12345,300,2023-02-15;w,12345,200,2023-02-16;d,67890,400,2023-02-17;W,67890,150,2023-02-18  \"\n",
    "\n",
    "* Your tasks are: \\\n",
    "  (1) to extract specific information from this log to answer several questions without using loops, functions or package.\\\n",
    "  (Note: solutions using loops, function, comprehension, package will receive a score of zero!) \\\n",
    "  (2) to use string formatting to report your answers"
   ]
  },
  {
   "cell_type": "markdown",
   "metadata": {},
   "source": [
    "### What is the total amount deposited for account 12345?"
   ]
  },
  {
   "cell_type": "code",
   "execution_count": 1,
   "metadata": {},
   "outputs": [],
   "source": [
    "log = \"  D,12345,300,2023-02-15;w,12345,200,2023-02-16;d,67890,400,2023-02-17;W,67890,150,2023-02-18  \""
   ]
  },
  {
   "cell_type": "code",
   "execution_count": 3,
   "metadata": {},
   "outputs": [
    {
     "name": "stdout",
     "output_type": "stream",
     "text": [
      "Total Deposits for Account 12345: $300\n"
     ]
    }
   ],
   "source": [
    "print(f\"Total Deposits for Account {log[4:9]}: ${log[10:13]}\")"
   ]
  },
  {
   "cell_type": "markdown",
   "metadata": {},
   "source": [
    "### What is the final balance of account 67890, assuming it started at zero?"
   ]
  },
  {
   "cell_type": "code",
   "execution_count": 4,
   "metadata": {},
   "outputs": [
    {
     "name": "stdout",
     "output_type": "stream",
     "text": [
      "Final Balance for Account log[50:55]: $250\n"
     ]
    }
   ],
   "source": [
    "print(f\"Final Balance for Account log[50:55]: ${int(log[56:59]) - int(log[79:82])}\")"
   ]
  },
  {
   "cell_type": "markdown",
   "metadata": {},
   "source": [
    "### How many transactions occurred in February 2023?"
   ]
  },
  {
   "cell_type": "code",
   "execution_count": 5,
   "metadata": {},
   "outputs": [
    {
     "name": "stdout",
     "output_type": "stream",
     "text": [
      "Transactions in February 2023: 4\n"
     ]
    }
   ],
   "source": [
    "print(f\"Transactions in February 2023: {len(log.split(';'))}\")"
   ]
  },
  {
   "cell_type": "markdown",
   "metadata": {},
   "source": [
    "## "
   ]
  },
  {
   "cell_type": "markdown",
   "metadata": {},
   "source": [
    "* You have received an encoded message containing details of a financial transaction. \\\n",
    "  Encoded Message Format: \"\\<ReversedDate>#\\<EncodedType>\\$\\<ReversedAmount\\>@\\<ReversedAccountNumber\\>;\" \\\n",
    "  \\<ReversedDate\\>: The transaction date in YYYYMMDD format, reversed. \\\n",
    "  \\<EncodedType\\>: The transaction type, where \"Deposit\" is encoded as !D! and \"Withdrawal\" as \\*W\\*. \\\n",
    "  \\<ReversedAmount\\>: The transaction amount in cents, reversed, and without decimal points. \\\n",
    "  \\<ReversedAccountNumber\\>: The account number, reversed. \\\n",
    "  (Note: solutions using loops, function, comprehension, package will receive a score of zero!)"
   ]
  },
  {
   "cell_type": "markdown",
   "metadata": {},
   "source": [
    "### Extract and Correct the Transaction Date"
   ]
  },
  {
   "cell_type": "code",
   "execution_count": 8,
   "metadata": {},
   "outputs": [
    {
     "name": "stdout",
     "output_type": "stream",
     "text": [
      "32022023\n"
     ]
    }
   ],
   "source": [
    "encoded_message = \"32022023#*W*$0050001@654321;\""
   ]
  },
  {
   "cell_type": "markdown",
   "metadata": {},
   "source": [
    "### Calculate and Format the Transaction Amount"
   ]
  },
  {
   "cell_type": "code",
   "execution_count": 14,
   "metadata": {},
   "outputs": [
    {
     "name": "stdout",
     "output_type": "stream",
     "text": [
      "Transaction Amount: $10,005.00\n"
     ]
    }
   ],
   "source": [
    "print(\"Transaction Amount: ${:,.2f}\".format(int(encoded_message[13:20][::-1])/100))"
   ]
  },
  {
   "cell_type": "markdown",
   "metadata": {},
   "source": [
    "# Practise Sequence Operation And String Method (20 pts)"
   ]
  },
  {
   "cell_type": "markdown",
   "metadata": {},
   "source": [
    "* (Note: solutions using loops, function, comprehension, package will receive a score of zero!)"
   ]
  },
  {
   "cell_type": "markdown",
   "metadata": {},
   "source": [
    "## Given the string s = \"PythonLearner\", extract and print the first 6 characters."
   ]
  },
  {
   "cell_type": "code",
   "execution_count": 76,
   "metadata": {},
   "outputs": [
    {
     "name": "stdout",
     "output_type": "stream",
     "text": [
      "Python\n"
     ]
    }
   ],
   "source": []
  },
  {
   "cell_type": "markdown",
   "metadata": {},
   "source": [
    "## For the string s = \"PythonLearner\", create a new string where the first and last characters have been exchanged."
   ]
  },
  {
   "cell_type": "code",
   "execution_count": 77,
   "metadata": {},
   "outputs": [
    {
     "name": "stdout",
     "output_type": "stream",
     "text": [
      "rythonLearneP\n"
     ]
    }
   ],
   "source": []
  },
  {
   "cell_type": "markdown",
   "metadata": {},
   "source": [
    "## For the string s = \"PythonLearner\", find and print the index of the first occurrence of the letter \"n\"."
   ]
  },
  {
   "cell_type": "code",
   "execution_count": 85,
   "metadata": {},
   "outputs": [
    {
     "name": "stdout",
     "output_type": "stream",
     "text": [
      "The second occurrence of 'n' is at index 5\n"
     ]
    }
   ],
   "source": []
  },
  {
   "cell_type": "markdown",
   "metadata": {},
   "source": [
    "## For the string s = \"PythonLearner\", find and print the index of the second occurrence of the letter \"n\"."
   ]
  },
  {
   "cell_type": "code",
   "execution_count": 84,
   "metadata": {},
   "outputs": [
    {
     "name": "stdout",
     "output_type": "stream",
     "text": [
      "The second occurrence of 'n' is at index 10\n"
     ]
    }
   ],
   "source": []
  },
  {
   "cell_type": "markdown",
   "metadata": {},
   "source": [
    "## Given the string s = \"PythonLearner\", create a new string where all occurrences of the letter \"n\" are replaced with the letter \"m\"."
   ]
  },
  {
   "cell_type": "code",
   "execution_count": 88,
   "metadata": {},
   "outputs": [
    {
     "name": "stdout",
     "output_type": "stream",
     "text": [
      "PythoaLearaer\n"
     ]
    }
   ],
   "source": []
  },
  {
   "cell_type": "markdown",
   "metadata": {},
   "source": [
    "## For the string s = \"PythonProgramming\", split the string into two equal halves. If the string has an odd length, the first half should have one more character than the second half."
   ]
  },
  {
   "cell_type": "code",
   "execution_count": 11,
   "metadata": {},
   "outputs": [
    {
     "name": "stdout",
     "output_type": "stream",
     "text": [
      "First half: PythonPro\n",
      "Second half: gramming\n"
     ]
    }
   ],
   "source": []
  },
  {
   "cell_type": "markdown",
   "metadata": {},
   "source": [
    "## Given the string s = \"Python\", t = \"lool\", check if the string is a palindrome. A palindrome is a word, phrase, number, or other sequences of characters that reads the same forward and backward (ignoring spaces, punctuation, and capitalization)."
   ]
  },
  {
   "cell_type": "code",
   "execution_count": 14,
   "metadata": {},
   "outputs": [
    {
     "name": "stdout",
     "output_type": "stream",
     "text": [
      "is Python palindrome: False\n"
     ]
    }
   ],
   "source": []
  },
  {
   "cell_type": "code",
   "execution_count": 15,
   "metadata": {},
   "outputs": [
    {
     "name": "stdout",
     "output_type": "stream",
     "text": [
      "is lool palindrome: True\n"
     ]
    }
   ],
   "source": []
  },
  {
   "cell_type": "markdown",
   "metadata": {},
   "source": [
    "# Practise List (20 pts)"
   ]
  },
  {
   "cell_type": "markdown",
   "metadata": {},
   "source": [
    "* (Note: solutions using loops, function, comprehension, package will receive a score of zero!)"
   ]
  },
  {
   "cell_type": "markdown",
   "metadata": {},
   "source": [
    "## Given a list fruits = [\"apple\", \"banana\", \"cherry\"], add the fruit \"orange\" to the end of the list."
   ]
  },
  {
   "cell_type": "code",
   "execution_count": 21,
   "metadata": {},
   "outputs": [
    {
     "name": "stdout",
     "output_type": "stream",
     "text": [
      "['apple', 'banana', 'cherry', 'orange']\n"
     ]
    }
   ],
   "source": []
  },
  {
   "cell_type": "markdown",
   "metadata": {},
   "source": [
    "## Given a list colors = [\"red\", \"blue\", \"green\"], insert the color \"yellow\" at the second position."
   ]
  },
  {
   "cell_type": "code",
   "execution_count": 22,
   "metadata": {},
   "outputs": [
    {
     "name": "stdout",
     "output_type": "stream",
     "text": [
      "['red', 'yellow', 'blue', 'green']\n"
     ]
    }
   ],
   "source": []
  },
  {
   "cell_type": "markdown",
   "metadata": {},
   "source": [
    "## Given a list items = [10, 20, 30, 40, 50], remove the third item from the list."
   ]
  },
  {
   "cell_type": "code",
   "execution_count": 23,
   "metadata": {},
   "outputs": [
    {
     "name": "stdout",
     "output_type": "stream",
     "text": [
      "[10, 20, 40, 50]\n"
     ]
    }
   ],
   "source": []
  },
  {
   "cell_type": "markdown",
   "metadata": {},
   "source": [
    "## remove empty strings from the list of strings.\n",
    "    list1 = [”hello”, ””, ”python”, ”class”, ””, ”FE520”]"
   ]
  },
  {
   "cell_type": "markdown",
   "metadata": {},
   "source": [
    "## add new item to list after a specified item\n",
    "    list1 = [10, 20, [600, 700, [8000, 9000], 500], 50, 60]\n",
    "    The expected output is [10, 20, [600, 700, [8000, 9000, 999], 500], 50, 60"
   ]
  },
  {
   "cell_type": "markdown",
   "metadata": {},
   "source": [
    "## List copy\n",
    "    list1 = [’a’, ’b’, ’c’, ’d’]\n",
    "    Use list1 to create another list with same elements list2 such that when we change\n",
    "    the first element of list2 from ’a’ to ’A’, the first element of list1 will not change\n",
    "    (i.e. it is still ’a’).\n",
    "    Show this process."
   ]
  },
  {
   "cell_type": "markdown",
   "metadata": {},
   "source": [
    "## List copy\n",
    "    list1 = [’a’, ’b’, ’c’, ’d’]\n",
    "    Use list1 to create another list with same elements list2 such that when we change\n",
    "    the first element of list2 from ’a’ to ’A’, the first element of list1 will not change\n",
    "    (i.e. it is still ’a’).\n",
    "    For this time, use different way with the previous question.\n",
    "    Show this process."
   ]
  },
  {
   "cell_type": "markdown",
   "metadata": {},
   "source": [
    "## Shallow Copy and Deep Copy"
   ]
  },
  {
   "cell_type": "markdown",
   "metadata": {},
   "source": [
    "* explain the following code \\\n",
    "  we already use copy method, why the change of list_2 still affects the list_1"
   ]
  },
  {
   "cell_type": "code",
   "execution_count": 89,
   "metadata": {},
   "outputs": [
    {
     "name": "stdout",
     "output_type": "stream",
     "text": [
      "[1, 2, 3, [4, 40, 6]]\n",
      "[1, 2, 3, [4, 40, 6]]\n"
     ]
    }
   ],
   "source": [
    "list_1 = [1,2,3,[4,5,6]]\n",
    "list_2 = list_1.copy()\n",
    "\n",
    "list_2[3][1] = 40\n",
    "print(list_2)\n",
    "print(list_1)"
   ]
  },
  {
   "cell_type": "markdown",
   "metadata": {},
   "source": [
    "# Financial Data Analysis Using Dictionaries (30 pts)"
   ]
  },
  {
   "cell_type": "markdown",
   "metadata": {},
   "source": [
    "## "
   ]
  },
  {
   "cell_type": "markdown",
   "metadata": {},
   "source": [
    "* You are a financial analyst tasked with managing and analyzing a dataset containing stock performance and transactions using dictionaries. \\ \n",
    "  The dataset is represented in two primary dictionaries: one for stock performance over the past year and another for recent transactions. \\ \n",
    "  Your goal is to update the stock performance data based on the recent transactions and provide insights into the dataset. \\\n",
    "  (Note: solutions using loops, function, comprehension, package will receive a score of zero!) \n",
    "* Given Data: \\\n",
    "  (1) Stock Performance Data:\\\n",
    "  A dictionary where each key is a stock symbol and the value is another dictionary containing price (current price per share), year_low (the lowest price in the past year), and year_high (the highest price in the past year). \\\n",
    "  (2) Recent Transactions: \\\n",
    "  A dictionary where each key is a stock symbol and the value is a list of dictionaries, each representing a transaction with type (either \"buy\" or \"sell\"), quantity (number of shares), and price (transaction price per share)."
   ]
  },
  {
   "cell_type": "code",
   "execution_count": 71,
   "metadata": {},
   "outputs": [],
   "source": [
    "stock_performance = {\n",
    "    \"AAPL\": {\"price\": 150, \"year_low\": 120, \"year_high\": 180},\n",
    "    \"MSFT\": {\"price\": 250, \"year_low\": 200, \"year_high\": 300}\n",
    "}\n",
    "\n",
    "recent_transactions = {\n",
    "    \"AAPL\": [{\"type\": \"buy\", \"quantity\": 10, \"price\": 190}],\n",
    "    \"MSFT\": [{\"type\": \"sell\", \"quantity\": 5, \"price\": 180}]\n",
    "}"
   ]
  },
  {
   "cell_type": "markdown",
   "metadata": {},
   "source": [
    "### Update Stock Prices"
   ]
  },
  {
   "cell_type": "code",
   "execution_count": 72,
   "metadata": {},
   "outputs": [
    {
     "data": {
      "text/plain": [
       "{'AAPL': {'price': 190, 'year_low': 120, 'year_high': 180},\n",
       " 'MSFT': {'price': 180, 'year_low': 200, 'year_high': 300}}"
      ]
     },
     "execution_count": 72,
     "metadata": {},
     "output_type": "execute_result"
    }
   ],
   "source": []
  },
  {
   "cell_type": "markdown",
   "metadata": {},
   "source": [
    "### Adjust Yearly Highs and Lows"
   ]
  },
  {
   "cell_type": "code",
   "execution_count": 73,
   "metadata": {},
   "outputs": [
    {
     "data": {
      "text/plain": [
       "{'AAPL': {'price': 190, 'year_low': 120, 'year_high': 190},\n",
       " 'MSFT': {'price': 180, 'year_low': 180, 'year_high': 300}}"
      ]
     },
     "execution_count": 73,
     "metadata": {},
     "output_type": "execute_result"
    }
   ],
   "source": []
  },
  {
   "cell_type": "markdown",
   "metadata": {},
   "source": [
    "### Generate Insights Report"
   ]
  },
  {
   "cell_type": "code",
   "execution_count": 75,
   "metadata": {},
   "outputs": [
    {
     "data": {
      "text/plain": [
       "{'AAPL': {'current_price': 190, 'new_high': 190, 'new_low': 120},\n",
       " 'MSFT': {'current_price': 180, 'new_high': 300, 'new_low': 180}}"
      ]
     },
     "execution_count": 75,
     "metadata": {},
     "output_type": "execute_result"
    }
   ],
   "source": []
  },
  {
   "cell_type": "markdown",
   "metadata": {},
   "source": [
    "## "
   ]
  },
  {
   "cell_type": "markdown",
   "metadata": {},
   "source": [
    "* build a simple stock search system \\\n",
    "  given a database, users will query the information based on stock ticker \\\n",
    "  your tasks are: \\\n",
    "  (1) if the query ticker is in the database, return the related information \\\n",
    "  As long as the ticker spelling is correct and in the database, you should return the information \\\n",
    "  (2) if the query ticker is not in the database, return \"the ticker is not in the database\"\n",
    "* hints: for taking the input from the user, use input function"
   ]
  },
  {
   "cell_type": "code",
   "execution_count": 92,
   "metadata": {},
   "outputs": [],
   "source": [
    "stocks = {\n",
    "    \"AAPL\": {\n",
    "        \"company_name\": \"Apple Inc.\",\n",
    "        \"sector\": \"Technology\",\n",
    "        \"current_price\": 150.73,\n",
    "        \"currency\": \"USD\"\n",
    "    },\n",
    "    \"MSFT\": {\n",
    "        \"company_name\": \"Microsoft Corporation\",\n",
    "        \"sector\": \"Technology\",\n",
    "        \"current_price\": 280.52,\n",
    "        \"currency\": \"USD\"\n",
    "    },\n",
    "    \"AMZN\": {\n",
    "        \"company_name\": \"Amazon.com, Inc.\",\n",
    "        \"sector\": \"Consumer Discretionary\",\n",
    "        \"current_price\": 105.21,\n",
    "        \"currency\": \"USD\"\n",
    "    }\n",
    "}\n"
   ]
  },
  {
   "cell_type": "code",
   "execution_count": null,
   "metadata": {},
   "outputs": [],
   "source": [
    "ticker = input(\"enter the ticker here: \")"
   ]
  },
  {
   "cell_type": "code",
   "execution_count": null,
   "metadata": {},
   "outputs": [],
   "source": []
  }
 ],
 "metadata": {
  "kernelspec": {
   "display_name": "Python 3",
   "language": "python",
   "name": "python3"
  },
  "language_info": {
   "codemirror_mode": {
    "name": "ipython",
    "version": 3
   },
   "file_extension": ".py",
   "mimetype": "text/x-python",
   "name": "python",
   "nbconvert_exporter": "python",
   "pygments_lexer": "ipython3",
   "version": "3.11.7"
  },
  "toc": {
   "base_numbering": 1,
   "nav_menu": {},
   "number_sections": true,
   "sideBar": true,
   "skip_h1_title": false,
   "title_cell": "Table of Contents",
   "title_sidebar": "Contents",
   "toc_cell": true,
   "toc_position": {},
   "toc_section_display": true,
   "toc_window_display": true
  }
 },
 "nbformat": 4,
 "nbformat_minor": 4
}
