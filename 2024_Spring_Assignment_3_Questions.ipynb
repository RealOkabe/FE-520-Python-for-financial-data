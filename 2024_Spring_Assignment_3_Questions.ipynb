{
 "cells": [
  {
   "cell_type": "markdown",
   "metadata": {},
   "source": [
    "# Question 1: Loan Amortization Schedule Generator"
   ]
  },
  {
   "cell_type": "markdown",
   "metadata": {},
   "source": [
    "* Objective:\n",
    "    Develop a Python program that generates a loan amortization schedule. The program should include functions to perform the following tasks:\n",
    "\n",
    "   (1) Input Loan Details: Allow the user to input the loan amount, annual interest rate, and loan term (in years).\\\n",
    "   (2) Calculate Monthly Payments: Implement a function to calculate monthly payments using the standard formula.\\\n",
    "   (3) Generate Amortization Schedule: Create a schedule showing the breakdown of each monthly payment into principal and interest, along with the remaining loan balance.\\\n",
    "   (4) Display the Schedule: Neatly display the amortization schedule in a tabular format."
   ]
  },
  {
   "cell_type": "markdown",
   "metadata": {},
   "source": [
    "* The formula for the monthly payment calculation is:\\\n",
    "  $$M = P \\frac{r(1 + r)^n}{(1 + r)^n - 1}$$ \n",
    "  where \\\n",
    "  M is the monthly payment \\\n",
    "  P is the principal loan amount \\\n",
    "  r is the monthly interest rate (annual rate divided by 12) \\\n",
    "  n is the number of payments (loan term in years multiplied by 12) \\"
   ]
  },
  {
   "cell_type": "code",
   "execution_count": 10,
   "metadata": {},
   "outputs": [
    {
     "name": "stdout",
     "output_type": "stream",
     "text": [
      "0.8417638844604329\n"
     ]
    }
   ],
   "source": [
    "def input_loan_details():\n",
    "    amount = int(input(\"Enter loan amount: \"))\n",
    "    annual_rate = float(input(\"Enter annual interest rate (as a percent): \"))\n",
    "    years = int(input(\"Enter loan term in years: \"))\n",
    "    return amount, annual_rate, years\n",
    "\n",
    "def calculate_monthly_payment(amount, annual_rate, years):\n",
    "    monthly_rate = annual_rate / 1200\n",
    "    months = years * 12\n",
    "    x = (1 + monthly_rate) ** months\n",
    "    return (amount * monthly_rate * x) / (x - 1)\n",
    "\n",
    "def generate_amortization_schedule(amount, annual_rate, years):\n",
    "    pass\n",
    "\n",
    "def display_schedule(schedule):\n",
    "    pass\n",
    "\n",
    "def main():\n",
    "    amount, annual_rate, years = input_loan_details()\n",
    "    monthly_interest = calculate_monthly_payment(amount, annual_rate, years)\n",
    "    print(monthly_interest)\n",
    "    # schedule = generate_amortization_schedule(amount, annual_rate, years)\n",
    "    # display_schedule(schedule)\n",
    "\n",
    "if __name__ == \"__main__\":\n",
    "    main()\n"
   ]
  },
  {
   "cell_type": "code",
   "execution_count": null,
   "metadata": {},
   "outputs": [],
   "source": []
  }
 ],
 "metadata": {
  "kernelspec": {
   "display_name": "Python 3",
   "language": "python",
   "name": "python3"
  },
  "language_info": {
   "codemirror_mode": {
    "name": "ipython",
    "version": 3
   },
   "file_extension": ".py",
   "mimetype": "text/x-python",
   "name": "python",
   "nbconvert_exporter": "python",
   "pygments_lexer": "ipython3",
   "version": "3.11.8"
  },
  "toc": {
   "base_numbering": 1,
   "nav_menu": {},
   "number_sections": true,
   "sideBar": true,
   "skip_h1_title": false,
   "title_cell": "Table of Contents",
   "title_sidebar": "Contents",
   "toc_cell": true,
   "toc_position": {},
   "toc_section_display": true,
   "toc_window_display": true
  }
 },
 "nbformat": 4,
 "nbformat_minor": 4
}
