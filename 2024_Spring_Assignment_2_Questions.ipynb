{
 "cells": [
  {
   "cell_type": "markdown",
   "id": "15361ed1",
   "metadata": {
    "toc": true
   },
   "source": [
    "<h1>Table of Contents<span class=\"tocSkip\"></span></h1>\n",
    "<div class=\"toc\"><ul class=\"toc-item\"><li><span><a href=\"#Portfolio-Optimization-(40-pts)\" data-toc-modified-id=\"Portfolio-Optimization-(40-pts)-1\"><span class=\"toc-item-num\">1&nbsp;&nbsp;</span>Portfolio Optimization (40 pts)</a></span><ul class=\"toc-item\"><li><span><a href=\"#Using-Brute-Force-Method\" data-toc-modified-id=\"Using-Brute-Force-Method-1.1\"><span class=\"toc-item-num\">1.1&nbsp;&nbsp;</span>Using Brute Force Method</a></span></li><li><span><a href=\"#Using-Gradient-Descent-To-Get-Optimal-Weight-For-A-Specific-Sharpe-Ratio\" data-toc-modified-id=\"Using-Gradient-Descent-To-Get-Optimal-Weight-For-A-Specific-Sharpe-Ratio-1.2\"><span class=\"toc-item-num\">1.2&nbsp;&nbsp;</span>Using Gradient Descent To Get Optimal Weight For A Specific Sharpe Ratio</a></span></li></ul></li><li><span><a href=\"#Control-yfinance-API-Requesting-(30-pts)\" data-toc-modified-id=\"Control-yfinance-API-Requesting-(30-pts)-2\"><span class=\"toc-item-num\">2&nbsp;&nbsp;</span>Control yfinance API Requesting (30 pts)</a></span></li><li><span><a href=\"#Implementing-a-Risk-Management-Decorator-for-Financial-Transactions-(30-pts)\" data-toc-modified-id=\"Implementing-a-Risk-Management-Decorator-for-Financial-Transactions-(30-pts)-3\"><span class=\"toc-item-num\">3&nbsp;&nbsp;</span>Implementing a Risk Management Decorator for Financial Transactions (30 pts)</a></span></li></ul></div>"
   ]
  },
  {
   "cell_type": "markdown",
   "id": "8d5577f3",
   "metadata": {},
   "source": [
    "# Portfolio Optimization (40 pts)"
   ]
  },
  {
   "cell_type": "markdown",
   "id": "eb375774",
   "metadata": {},
   "source": [
    "## Using Brute Force Method"
   ]
  },
  {
   "cell_type": "markdown",
   "id": "762aa033",
   "metadata": {},
   "source": [
    "* Objective: \\\n",
    "  The primary objective of this assignment is to apply a brute-force search method to identify the   optimal asset allocation for a portfolio that maximizes the Sharpe Ratio.\\\n",
    "  This method involves iterating over a vast number of potential asset weight combinations to evaluate their performance, based on historical return data, and selecting the combination that yields the highest Sharpe Ratio.\n",
    "  \n",
    "* Data Preparation: \\\n",
    "  Load the historical price data for each asset in your portfolio.\\\n",
    "  Calculate daily returns from the price data.\n",
    "\n",
    "* Brute Force Optimization: \\\n",
    "  Generate a large number of random portfolios by assigning different weights to each asset. \\\n",
    "  Ensure that the sum of weights in each portfolio equals 1. \\\n",
    "  For each portfolio, calculate the annualized return, annualized volatility, and the Sharpe Ratio.\n",
    "\n",
    "* Selection of Optimal Portfolio: \\\n",
    "  Identify the portfolio with the highest Sharpe Ratio. This portfolio is considered the optimal asset allocation.\\\n",
    "  Analyze the risk (volatility) and return of the optimal portfolio.\n",
    "\n",
    "* Visualization: \\\n",
    "  Plot the risk-return scatter plot for all the generated portfolios to visualize the distribution and identify the efficient frontier visually.\n",
    "\n",
    "* Highlight the optimal portfolio on the plot."
   ]
  },
  {
   "cell_type": "code",
   "execution_count": 3,
   "id": "0e36ed35",
   "metadata": {},
   "outputs": [],
   "source": [
    "import yfinance as yf\n",
    "import numpy as np\n",
    "import pandas as pd\n",
    "import matplotlib.pyplot as plt"
   ]
  },
  {
   "cell_type": "code",
   "execution_count": 4,
   "id": "741e9a66",
   "metadata": {},
   "outputs": [
    {
     "name": "stderr",
     "output_type": "stream",
     "text": [
      "[*********************100%%**********************]  3 of 3 completed\n"
     ]
    }
   ],
   "source": [
    "stock = yf.download([\"AAPL\", \"AMZN\", \"TSLA\"],\n",
    "                    start = \"2021-01-01\",\n",
    "                    end = \"2022-01-01\")"
   ]
  },
  {
   "cell_type": "code",
   "execution_count": 5,
   "id": "d2062c86",
   "metadata": {},
   "outputs": [],
   "source": [
    "data = stock[\"Adj Close\"]"
   ]
  },
  {
   "cell_type": "code",
   "execution_count": 6,
   "id": "c9fc3413",
   "metadata": {},
   "outputs": [
    {
     "data": {
      "text/html": [
       "<div>\n",
       "<style scoped>\n",
       "    .dataframe tbody tr th:only-of-type {\n",
       "        vertical-align: middle;\n",
       "    }\n",
       "\n",
       "    .dataframe tbody tr th {\n",
       "        vertical-align: top;\n",
       "    }\n",
       "\n",
       "    .dataframe thead th {\n",
       "        text-align: right;\n",
       "    }\n",
       "</style>\n",
       "<table border=\"1\" class=\"dataframe\">\n",
       "  <thead>\n",
       "    <tr style=\"text-align: right;\">\n",
       "      <th>Ticker</th>\n",
       "      <th>AAPL</th>\n",
       "      <th>AMZN</th>\n",
       "      <th>TSLA</th>\n",
       "    </tr>\n",
       "    <tr>\n",
       "      <th>Date</th>\n",
       "      <th></th>\n",
       "      <th></th>\n",
       "      <th></th>\n",
       "    </tr>\n",
       "  </thead>\n",
       "  <tbody>\n",
       "    <tr>\n",
       "      <th>2021-01-04</th>\n",
       "      <td>127.002090</td>\n",
       "      <td>159.331497</td>\n",
       "      <td>243.256668</td>\n",
       "    </tr>\n",
       "    <tr>\n",
       "      <th>2021-01-05</th>\n",
       "      <td>128.572311</td>\n",
       "      <td>160.925507</td>\n",
       "      <td>245.036667</td>\n",
       "    </tr>\n",
       "    <tr>\n",
       "      <th>2021-01-06</th>\n",
       "      <td>124.244370</td>\n",
       "      <td>156.919006</td>\n",
       "      <td>251.993332</td>\n",
       "    </tr>\n",
       "    <tr>\n",
       "      <th>2021-01-07</th>\n",
       "      <td>128.483994</td>\n",
       "      <td>158.108002</td>\n",
       "      <td>272.013336</td>\n",
       "    </tr>\n",
       "    <tr>\n",
       "      <th>2021-01-08</th>\n",
       "      <td>129.592957</td>\n",
       "      <td>159.134995</td>\n",
       "      <td>293.339996</td>\n",
       "    </tr>\n",
       "    <tr>\n",
       "      <th>...</th>\n",
       "      <td>...</td>\n",
       "      <td>...</td>\n",
       "      <td>...</td>\n",
       "    </tr>\n",
       "    <tr>\n",
       "      <th>2021-12-27</th>\n",
       "      <td>178.065659</td>\n",
       "      <td>169.669495</td>\n",
       "      <td>364.646667</td>\n",
       "    </tr>\n",
       "    <tr>\n",
       "      <th>2021-12-28</th>\n",
       "      <td>177.038712</td>\n",
       "      <td>170.660995</td>\n",
       "      <td>362.823334</td>\n",
       "    </tr>\n",
       "    <tr>\n",
       "      <th>2021-12-29</th>\n",
       "      <td>177.127594</td>\n",
       "      <td>169.201004</td>\n",
       "      <td>362.063324</td>\n",
       "    </tr>\n",
       "    <tr>\n",
       "      <th>2021-12-30</th>\n",
       "      <td>175.962418</td>\n",
       "      <td>168.644501</td>\n",
       "      <td>356.779999</td>\n",
       "    </tr>\n",
       "    <tr>\n",
       "      <th>2021-12-31</th>\n",
       "      <td>175.340332</td>\n",
       "      <td>166.716995</td>\n",
       "      <td>352.260010</td>\n",
       "    </tr>\n",
       "  </tbody>\n",
       "</table>\n",
       "<p>252 rows × 3 columns</p>\n",
       "</div>"
      ],
      "text/plain": [
       "Ticker            AAPL        AMZN        TSLA\n",
       "Date                                          \n",
       "2021-01-04  127.002090  159.331497  243.256668\n",
       "2021-01-05  128.572311  160.925507  245.036667\n",
       "2021-01-06  124.244370  156.919006  251.993332\n",
       "2021-01-07  128.483994  158.108002  272.013336\n",
       "2021-01-08  129.592957  159.134995  293.339996\n",
       "...                ...         ...         ...\n",
       "2021-12-27  178.065659  169.669495  364.646667\n",
       "2021-12-28  177.038712  170.660995  362.823334\n",
       "2021-12-29  177.127594  169.201004  362.063324\n",
       "2021-12-30  175.962418  168.644501  356.779999\n",
       "2021-12-31  175.340332  166.716995  352.260010\n",
       "\n",
       "[252 rows x 3 columns]"
      ]
     },
     "execution_count": 6,
     "metadata": {},
     "output_type": "execute_result"
    }
   ],
   "source": [
    "data"
   ]
  },
  {
   "cell_type": "code",
   "execution_count": 7,
   "id": "3e5ee2b5",
   "metadata": {},
   "outputs": [
    {
     "name": "stdout",
     "output_type": "stream",
     "text": [
      "Ticker          AAPL      AMZN      TSLA\n",
      "Date                                    \n",
      "2021-01-05  0.012364  0.010004  0.007317\n",
      "2021-01-06 -0.033662 -0.024897  0.028390\n",
      "2021-01-07  0.034123  0.007577  0.079447\n",
      "2021-01-08  0.008631  0.006496  0.078403\n",
      "2021-01-11 -0.023249 -0.021519 -0.078214\n",
      "...              ...       ...       ...\n",
      "2021-12-27  0.022975 -0.008178  0.025248\n",
      "2021-12-28 -0.005767  0.005844 -0.005000\n",
      "2021-12-29  0.000502 -0.008555 -0.002095\n",
      "2021-12-30 -0.006578 -0.003289 -0.014592\n",
      "2021-12-31 -0.003535 -0.011429 -0.012669\n",
      "\n",
      "[251 rows x 3 columns]\n",
      "        Return  Volatility  Sharpe Ratio      AAPL      AMZN      TSLA\n",
      "0     0.226056    0.222203      1.017342  0.438916  0.497193  0.063891\n",
      "1     0.342212    0.293780      1.164857  0.364025  0.263813  0.372162\n",
      "2     0.402114    0.320438      1.254890  0.487943  0.083478  0.428579\n",
      "3     0.229391    0.264874      0.866039  0.100635  0.614530  0.284835\n",
      "4     0.263182    0.270624      0.972499  0.181649  0.508703  0.309648\n",
      "...        ...         ...           ...       ...       ...       ...\n",
      "9995  0.334037    0.336446      0.992838  0.123125  0.371081  0.505794\n",
      "9996  0.356237    0.279369      1.275149  0.515713  0.176321  0.307965\n",
      "9997  0.237038    0.283352      0.836549  0.028892  0.623822  0.347287\n",
      "9998  0.310779    0.285987      1.086687  0.276679  0.366680  0.356641\n",
      "9999  0.182020    0.234493      0.776226  0.164363  0.697463  0.138174\n",
      "\n",
      "[10000 rows x 6 columns]\n"
     ]
    }
   ],
   "source": [
    "# Calculate returns\n",
    "simple_returns = data.pct_change().dropna()\n",
    "print(simple_returns)\n",
    "\n",
    "# Empty dataframe to store the metrics\n",
    "data_metrics = pd.DataFrame(columns=['Return', 'Volatility', 'Sharpe Ratio', *data.columns])\n",
    "\n",
    "\n",
    "for i in range(10000):\n",
    "    # Generate random weights and make sure their sum is 1\n",
    "    weights = np.random.random(len(data.columns))\n",
    "    weights /= np.sum(weights)\n",
    "\n",
    "    # There are 252 trading days in the year.\n",
    "    portfolio_returns = np.dot(simple_returns.mean(), weights) * 252\n",
    "    portfolio_volatility = np.sqrt(np.dot(weights.T, np.dot(simple_returns.cov() * 252, weights)))\n",
    "    sharpe_ratio = portfolio_returns / portfolio_volatility\n",
    "\n",
    "    data_metrics.loc[i] = [portfolio_returns, portfolio_volatility, sharpe_ratio, *weights]\n",
    "\n",
    "print(data_metrics)"
   ]
  },
  {
   "cell_type": "code",
   "execution_count": 8,
   "id": "55912769",
   "metadata": {},
   "outputs": [
    {
     "data": {
      "image/png": "[encoded data removed]",
      "text/plain": [
       "<Figure size 700x500 with 2 Axes>"
      ]
     },
     "metadata": {},
     "output_type": "display_data"
    }
   ],
   "source": [
    "# Find the optimal portfolio (max Sharpe ratio)\n",
    "optimal_portfolio = data_metrics.iloc[data_metrics['Sharpe Ratio'].idxmax()]\n",
    "\n",
    "# Plot the heatmap\n",
    "plt.figure(figsize=(7, 5))\n",
    "heatmap = plt.scatter(data_metrics['Volatility'], data_metrics['Return'], c=data_metrics['Sharpe Ratio'], cmap='viridis', alpha=0.7)\n",
    "plt.colorbar(heatmap, label='Sharpe Ratio')\n",
    "plt.xlabel('Volatility (Standard Deviation)')\n",
    "plt.ylabel('Expected Return')\n",
    "plt.title('Efficient Frontier')\n",
    "\n",
    "# Mark the optimal portfolio\n",
    "plt.scatter(optimal_portfolio['Volatility'], optimal_portfolio['Return'], color='red', marker='.', s=200, label='Optimal Portfolio')\n",
    "\n",
    "plt.legend()\n",
    "plt.show()"
   ]
  },
  {
   "cell_type": "code",
   "execution_count": null,
   "id": "acd4c855",
   "metadata": {},
   "outputs": [],
   "source": []
  },
  {
   "cell_type": "markdown",
   "id": "845ce369",
   "metadata": {},
   "source": [
    "## Using Gradient Descent To Get Optimal Weight For A Specific Sharpe Ratio"
   ]
  },
  {
   "cell_type": "markdown",
   "id": "aa53cda0",
   "metadata": {},
   "source": [
    "* Objective: \\\n",
    "  The objective of this assignment is to apply the gradient descent algorithm to find the portfolio weights that achieve a portfolio Sharpe Ratio as close as possible to a specified target value. \\\n",
    "  This involves developing a function that calculates the gradient of the difference between the current portfolio's Sharpe Ratio and the target Sharpe Ratio with respect to the portfolio weights, and then iteratively adjusting the weights to minimize this difference.\n",
    "  \n",
    "* Data Preparation: \\\n",
    "  Load the historical price data for the chosen assets.\n",
    "  Calculate daily returns from the price data.\n",
    "\n",
    "* Gradient Descent Setup:\\ \n",
    "  Define the target Sharpe Ratio you aim to achieve with your portfolio. \\\n",
    "  Initialize random weights for each asset in the portfolio, ensuring they sum to 1. \\\n",
    "  Develop a function to calculate the portfolio's Sharpe Ratio given a set of weights and the historical returns data. \\\n",
    "  Implement a function to approximate the gradient of the difference between the current Sharpe Ratio and the target Sharpe Ratio with respect to the weights. This involves numerically estimating how small changes in weights affect the Sharpe Ratio.\n",
    "  \n",
    "* Optimization Loop: \\\n",
    "  Apply the gradient descent algorithm: iteratively adjust the portfolio weights in the direction that reduces the difference between the current and target Sharpe Ratios, based on the calculated gradient. \\\n",
    "  Ensure that the portfolio weights remain valid (i.e., they sum to 1 and are non-negative) after each iteration.\n",
    "\n",
    "* Analysis and Visualization: \\\n",
    "  Analyze the optimized portfolio in terms of its expected return, volatility, and Sharpe Ratio."
   ]
  },
  {
   "cell_type": "code",
   "execution_count": 9,
   "id": "629409f9",
   "metadata": {},
   "outputs": [
    {
     "name": "stdout",
     "output_type": "stream",
     "text": [
      "Converged after 29 iterations.\n",
      "Optimized weights: [0.12444609 0.04921138 0.82634253]\n"
     ]
    }
   ],
   "source": [
    "# Risk-free rate (assuming 0 for simplification)\n",
    "R_f = 0\n",
    "\n",
    "# Target Sharpe Ratio\n",
    "S_target = 1.0\n",
    "\n",
    "# Generate random weights and ensure that their sum is 1\n",
    "weights = np.random.random(len(data.columns))\n",
    "weights /= np.sum(weights)\n",
    "\n",
    "# Function to calculate sharpe ratio\n",
    "def calculate_sharpe_ratio(weights, returns):\n",
    "    portfolio_returns = np.dot(returns.mean(), weights) * 252\n",
    "    portfolio_volatility = np.sqrt(np.dot(weights.T, np.dot(returns.cov() * 252, weights)))\n",
    "    if portfolio_volatility == 0:\n",
    "        sharpe_ratio = 0\n",
    "    else:\n",
    "        sharpe_ratio = portfolio_returns / portfolio_volatility\n",
    "    return sharpe_ratio\n",
    "\n",
    "# Function to calculate gradients\n",
    "def calculate_gradients(current_sharpe_ratio, target_sharpe_ratio, weights, returns):\n",
    "    gradient = np.zeros_like(weights)\n",
    "    perturbation = np.zeros_like(weights)\n",
    "    epsilon = 1e-8\n",
    "\n",
    "    for i in range(len(weights)):\n",
    "        perturbation[i] = epsilon\n",
    "\n",
    "        # Calculate sharpe ratio with perturbed weights\n",
    "        sharpe_ratio_perturbed = calculate_sharpe_ratio(weights + perturbation, returns)\n",
    "\n",
    "        # Calculate the difference in sharpe ratio\n",
    "        difference = sharpe_ratio_perturbed - target_sharpe_ratio\n",
    "\n",
    "        # Approximate the gradient using finite difference\n",
    "        gradient[i] = (difference / epsilon)\n",
    "\n",
    "        # Reset perturbation\n",
    "        perturbation[i] = 0\n",
    "        \n",
    "    return gradient\n",
    "\n",
    "tolerance = 0.01\n",
    "learning_rate = 0.1\n",
    "\n",
    "# 100 iterations for gradient descent\n",
    "for i in range(100):\n",
    "    # Calculate sharpe ratio and approximate gradients\n",
    "    current_sharpe_ratio = calculate_sharpe_ratio(weights, simple_returns)\n",
    "    gradient = calculate_gradients(current_sharpe_ratio, S_target, weights, simple_returns)\n",
    "\n",
    "     # Normalize gradient\n",
    "    gradient_magnitude = np.linalg.norm(gradient)\n",
    "    if gradient_magnitude != 0:\n",
    "        normalized_gradient = gradient / gradient_magnitude\n",
    "    else:\n",
    "        normalized_gradient = gradient\n",
    "\n",
    "    # Update weights to the opposite direction of the gradient\n",
    "    weights -= learning_rate * normalized_gradient\n",
    "\n",
    "    # Ensure weights remain non negative and sum to 1\n",
    "    weights = np.maximum(weights, 0)\n",
    "    weights /= np.sum(weights) if np.sum(weights) != 0 else 1\n",
    "\n",
    "    # Check for convergence\n",
    "    if abs(current_sharpe_ratio - S_target) < tolerance:\n",
    "        print(f\"Converged after {i + 1} iterations.\")\n",
    "        print(f\"Optimized weights: {weights}\")\n",
    "        break\n",
    "\n",
    "else:\n",
    "    print(\"Maximum iterations reached without convergence.\")"
   ]
  },
  {
   "cell_type": "markdown",
   "id": "d8bf5892",
   "metadata": {},
   "source": [
    "# Control yfinance API Requesting (30 pts)"
   ]
  },
  {
   "cell_type": "markdown",
   "id": "a5bd5db8",
   "metadata": {},
   "source": [
    "* Objective \\\n",
    "  The goal of this assignment is to develop a Python script that incorporates a rate limiter for fetching financial data using the yfinance library. \\\n",
    "  This rate limiter should ensure that the data fetching function does not exceed a specified number of calls within a given timeframe, thus preventing rate limit violations when accessing financial data APIs.\n",
    "  \n",
    "* Implement the Rate Limiter: \\\n",
    "  Create a RateLimiter class that initializes with two parameters: max_calls, the maximum number of allowed calls, and period, the timeframe in seconds within which these calls can be made. \\\n",
    "  Implement the class's __call__ method to manage the function wrapping, tracking the timestamps of each call and enforcing the rate limit.\n",
    "\n",
    "* Create a Data Fetching Function: \\\n",
    "  Write a function fetch_stock_data that takes a stock symbol as input and uses the yfinance library to fetch the last 5 days of historical stock data. \\\n",
    "  Apply the RateLimiter decorator to this function, using a practical rate limit setting (e.g., 5 calls per minute).\n",
    "\n",
    "* Demonstration and Testing: \\\n",
    "  Demonstrate the use of your rate-limited fetch_stock_data function by fetching data for multiple stock symbols in a loop. \\\n",
    "  Include logic to simulate rapid successive calls and show how the rate limiter manages these calls to comply with the set rate limit."
   ]
  },
  {
   "cell_type": "code",
   "execution_count": 21,
   "id": "b86d7fcc",
   "metadata": {},
   "outputs": [
    {
     "name": "stderr",
     "output_type": "stream",
     "text": [
      "[*********************100%%**********************]  1 of 1 completed\n"
     ]
    },
    {
     "name": "stdout",
     "output_type": "stream",
     "text": [
      "                  Open        High         Low       Close   Adj Close  \\\n",
      "Date                                                                     \n",
      "2024-04-01  171.190002  171.250000  169.479996  170.029999  170.029999   \n",
      "2024-04-02  169.080002  169.339996  168.229996  168.839996  168.839996   \n",
      "2024-04-03  168.789993  170.679993  168.580002  169.649994  169.649994   \n",
      "2024-04-04  170.289993  171.919998  168.820007  168.820007  168.820007   \n",
      "2024-04-05  169.589996  170.389999  168.949997  169.580002  169.580002   \n",
      "\n",
      "              Volume  \n",
      "Date                  \n",
      "2024-04-01  46240500  \n",
      "2024-04-02  49329500  \n",
      "2024-04-03  47602100  \n",
      "2024-04-04  53704400  \n",
      "2024-04-05  42055200  \n"
     ]
    },
    {
     "name": "stderr",
     "output_type": "stream",
     "text": [
      "[*********************100%%**********************]  1 of 1 completed\n"
     ]
    },
    {
     "name": "stdout",
     "output_type": "stream",
     "text": [
      "                  Open        High         Low       Close   Adj Close  \\\n",
      "Date                                                                     \n",
      "2024-04-01  423.950012  427.890015  422.220001  424.570007  424.570007   \n",
      "2024-04-02  420.109985  422.380005  417.839996  421.440002  421.440002   \n",
      "2024-04-03  419.730011  423.260010  419.089996  420.450012  420.450012   \n",
      "2024-04-04  424.989990  428.670013  417.570007  417.880005  417.880005   \n",
      "2024-04-05  420.010010  426.510010  418.320007  425.519989  425.519989   \n",
      "\n",
      "              Volume  \n",
      "Date                  \n",
      "2024-04-01  16316000  \n",
      "2024-04-02  17912000  \n",
      "2024-04-03  16475600  \n",
      "2024-04-04  19370900  \n",
      "2024-04-05  16544300  \n"
     ]
    },
    {
     "name": "stderr",
     "output_type": "stream",
     "text": [
      "[*********************100%%**********************]  1 of 1 completed\n"
     ]
    },
    {
     "name": "stdout",
     "output_type": "stream",
     "text": [
      "                  Open        High         Low       Close   Adj Close  \\\n",
      "Date                                                                     \n",
      "2024-04-01  150.690002  155.740005  150.610001  155.490005  155.490005   \n",
      "2024-04-02  153.500000  154.699997  152.149994  154.559998  154.559998   \n",
      "2024-04-03  153.600006  155.080002  152.729996  154.919998  154.919998   \n",
      "2024-04-04  153.500000  154.770004  150.449997  150.529999  150.529999   \n",
      "2024-04-05  150.029999  153.419998  149.600006  152.500000  152.500000   \n",
      "\n",
      "              Volume  \n",
      "Date                  \n",
      "2024-04-01  31730800  \n",
      "2024-04-02  24586000  \n",
      "2024-04-03  24655700  \n",
      "2024-04-04  34724700  \n",
      "2024-04-05  23449300  \n"
     ]
    },
    {
     "name": "stderr",
     "output_type": "stream",
     "text": [
      "[*********************100%%**********************]  1 of 1 completed\n"
     ]
    },
    {
     "name": "stdout",
     "output_type": "stream",
     "text": [
      "                  Open        High         Low       Close   Adj Close  \\\n",
      "Date                                                                     \n",
      "2024-04-01  180.789993  183.000000  179.949997  180.970001  180.970001   \n",
      "2024-04-02  179.070007  180.789993  178.380005  180.690002  180.690002   \n",
      "2024-04-03  179.899994  182.869995  179.800003  182.410004  182.410004   \n",
      "2024-04-04  184.000000  185.100006  180.000000  180.000000  180.000000   \n",
      "2024-04-05  182.380005  186.270004  181.970001  185.070007  185.070007   \n",
      "\n",
      "              Volume  \n",
      "Date                  \n",
      "2024-04-01  29174500  \n",
      "2024-04-02  32611500  \n",
      "2024-04-03  30959800  \n",
      "2024-04-04  41624300  \n",
      "2024-04-05  42335200  \n"
     ]
    },
    {
     "name": "stderr",
     "output_type": "stream",
     "text": [
      "[*********************100%%**********************]  1 of 1 completed\n"
     ]
    },
    {
     "name": "stdout",
     "output_type": "stream",
     "text": [
      "                  Open        High         Low       Close   Adj Close  \\\n",
      "Date                                                                     \n",
      "2024-04-01  487.200012  497.429993  481.779999  491.350006  491.350006   \n",
      "2024-04-02  485.100006  497.529999  484.649994  497.369995  497.369995   \n",
      "2024-04-03  498.929993  507.239990  498.750000  506.739990  506.739990   \n",
      "2024-04-04  516.419983  530.000000  510.579987  510.920013  510.920013   \n",
      "2024-04-05  516.859985  530.700012  514.409973  527.340027  527.340027   \n",
      "\n",
      "              Volume  \n",
      "Date                  \n",
      "2024-04-01   9247000  \n",
      "2024-04-02  11081000  \n",
      "2024-04-03  12047100  \n",
      "2024-04-04  26476300  \n",
      "2024-04-05  19242000  \n",
      "Rate limit exceeded. Please try again later.\n"
     ]
    },
    {
     "ename": "KeyboardInterrupt",
     "evalue": "",
     "output_type": "error",
     "traceback": [
      "\u001b[0;31m---------------------------------------------------------------------------\u001b[0m",
      "\u001b[0;31mKeyboardInterrupt\u001b[0m                         Traceback (most recent call last)",
      "\u001b[1;32m/home/realokabe/Documents/FE-520-Python-for-financial-data/2024_Spring_Assignment_2_Questions.ipynb Cell 17\u001b[0m line \u001b[0;36m3\n\u001b[1;32m     <a href='vscode-notebook-cell:/home/realokabe/Documents/FE-520-Python-for-financial-data/2024_Spring_Assignment_2_Questions.ipynb#X22sZmlsZQ%3D%3D?line=29'>30</a>\u001b[0m symbols \u001b[39m=\u001b[39m [\u001b[39m\"\u001b[39m\u001b[39mAAPL\u001b[39m\u001b[39m\"\u001b[39m, \u001b[39m\"\u001b[39m\u001b[39mMSFT\u001b[39m\u001b[39m\"\u001b[39m, \u001b[39m\"\u001b[39m\u001b[39mGOOGL\u001b[39m\u001b[39m\"\u001b[39m, \u001b[39m\"\u001b[39m\u001b[39mAMZN\u001b[39m\u001b[39m\"\u001b[39m, \u001b[39m\"\u001b[39m\u001b[39mMETA\u001b[39m\u001b[39m\"\u001b[39m, \u001b[39m\"\u001b[39m\u001b[39mTSLA\u001b[39m\u001b[39m\"\u001b[39m, \u001b[39m\"\u001b[39m\u001b[39mNFLX\u001b[39m\u001b[39m\"\u001b[39m]\n\u001b[1;32m     <a href='vscode-notebook-cell:/home/realokabe/Documents/FE-520-Python-for-financial-data/2024_Spring_Assignment_2_Questions.ipynb#X22sZmlsZQ%3D%3D?line=30'>31</a>\u001b[0m \u001b[39mfor\u001b[39;00m symbol \u001b[39min\u001b[39;00m symbols:\n\u001b[0;32m---> <a href='vscode-notebook-cell:/home/realokabe/Documents/FE-520-Python-for-financial-data/2024_Spring_Assignment_2_Questions.ipynb#X22sZmlsZQ%3D%3D?line=31'>32</a>\u001b[0m     data \u001b[39m=\u001b[39m fetch_stock_data(symbol)\n\u001b[1;32m     <a href='vscode-notebook-cell:/home/realokabe/Documents/FE-520-Python-for-financial-data/2024_Spring_Assignment_2_Questions.ipynb#X22sZmlsZQ%3D%3D?line=32'>33</a>\u001b[0m     \u001b[39m# Print the first few rows of the fetched data\u001b[39;00m\n\u001b[1;32m     <a href='vscode-notebook-cell:/home/realokabe/Documents/FE-520-Python-for-financial-data/2024_Spring_Assignment_2_Questions.ipynb#X22sZmlsZQ%3D%3D?line=33'>34</a>\u001b[0m     \u001b[39mprint\u001b[39m(data\u001b[39m.\u001b[39mhead())\n",
      "\u001b[1;32m/home/realokabe/Documents/FE-520-Python-for-financial-data/2024_Spring_Assignment_2_Questions.ipynb Cell 17\u001b[0m line \u001b[0;36m2\n\u001b[1;32m     <a href='vscode-notebook-cell:/home/realokabe/Documents/FE-520-Python-for-financial-data/2024_Spring_Assignment_2_Questions.ipynb#X22sZmlsZQ%3D%3D?line=17'>18</a>\u001b[0m \u001b[39melse\u001b[39;00m:\n\u001b[1;32m     <a href='vscode-notebook-cell:/home/realokabe/Documents/FE-520-Python-for-financial-data/2024_Spring_Assignment_2_Questions.ipynb#X22sZmlsZQ%3D%3D?line=18'>19</a>\u001b[0m     \u001b[39mprint\u001b[39m(\u001b[39m\"\u001b[39m\u001b[39mRate limit exceeded. Please try again later.\u001b[39m\u001b[39m\"\u001b[39m)\n\u001b[0;32m---> <a href='vscode-notebook-cell:/home/realokabe/Documents/FE-520-Python-for-financial-data/2024_Spring_Assignment_2_Questions.ipynb#X22sZmlsZQ%3D%3D?line=19'>20</a>\u001b[0m     interrupt_main()\n",
      "\u001b[0;31mKeyboardInterrupt\u001b[0m: "
     ]
    }
   ],
   "source": [
    "import time\n",
    "import yfinance as yf\n",
    "from _thread import interrupt_main\n",
    "\n",
    "class RateLimiter:\n",
    "    def __init__(self, max_calls, period):\n",
    "        self.max_calls = max_calls\n",
    "        self.period = period\n",
    "        self.call_times = []\n",
    "\n",
    "    def __call__(self, func):\n",
    "        def wrapper(*args, **kwargs):\n",
    "            current_time = time.time()\n",
    "            self.call_times = [t for t in self.call_times if current_time - t <= self.period]\n",
    "            if len(self.call_times) < self.max_calls:\n",
    "                self.call_times.append(current_time)\n",
    "                return func(*args, **kwargs)\n",
    "            else:\n",
    "                print(\"Rate limit exceeded. Please try again later.\")\n",
    "                interrupt_main()\n",
    "        return wrapper\n",
    "\n",
    "# Limit calls to 5 per minute\n",
    "@RateLimiter(max_calls=5, period=60)\n",
    "def fetch_stock_data(symbol):\n",
    "    data = yf.download(symbol, period=\"5d\")\n",
    "    return data\n",
    "\n",
    "if __name__ == \"__main__\":\n",
    "    symbols = [\"AAPL\", \"MSFT\", \"GOOGL\", \"AMZN\", \"META\", \"TSLA\", \"NFLX\"]\n",
    "    for symbol in symbols:\n",
    "        data = fetch_stock_data(symbol)\n",
    "        # Print the first few rows of the fetched data\n",
    "        print(data.head())\n",
    "\n",
    "        time.sleep(10)  # Sleep to simulate delay between requests"
   ]
  },
  {
   "cell_type": "markdown",
   "id": "b0ed293d",
   "metadata": {},
   "source": [
    "# Implementing a Risk Management Decorator for Financial Transactions (30 pts)"
   ]
  },
  {
   "cell_type": "markdown",
   "id": "922f328e",
   "metadata": {},
   "source": [
    "* Objective \\\n",
    "  The objective of this assignment is to create a Python script that uses a function decorator to enforce risk management rules on financial transactions. \\ \n",
    "  This decorator should be capable of assessing transactions based on predefined risk criteria (e.g., maximum allowable transaction size, leverage limits) and either approve the transaction, modify it to fit within the risk parameters, or reject it outright.\n",
    "  \n",
    "* Define Risk Management Criteria: \\\n",
    "  Identify and clearly define a set of risk management criteria to be applied to transactions. Example criteria might include maximum transaction size, maximum leverage, or maximum exposure to a single asset. \\\n",
    "\n",
    "* Implement the Risk Management Decorator: \\\n",
    "  Develop a decorator, risk_management, that can wrap any function initiating a financial transaction. \\\n",
    "  The decorator should check the transaction details against the predefined risk criteria and decide to: \\\n",
    "  Approve the transaction as is. \\\n",
    "  Modify the transaction to fit within risk limits. \\\n",
    "  Reject the transaction if it cannot be safely modified. \\\n",
    "  Include logging within the decorator to record the decision made for each transaction (approved, modified, rejected).\n",
    "  (Tips: import logging)\n",
    "  \n",
    "* Transaction Function: \\\n",
    "  Write a function, execute_transaction, that simulates executing a financial transaction. This function should accept parameters such as transaction size, asset, and leverage. \\\n",
    "  Apply the risk_management decorator to this function.\n",
    "\n",
    "* Demonstration and Testing: \\\n",
    "  Demonstrate the use of your decorated execute_transaction function by simulating a variety of transaction scenarios that test each of your risk management criteria. \\\n",
    "  Provide examples where transactions are approved, modified, and rejected based on the criteria. \n",
    "\n"
   ]
  },
  {
   "cell_type": "code",
   "execution_count": 15,
   "id": "c48cb920",
   "metadata": {},
   "outputs": [
    {
     "name": "stderr",
     "output_type": "stream",
     "text": [
      "2024-04-07 16:17:24,183 - INFO - Transaction modified: Exposure to AMZN exceeds maximum allowable limit. Modifying transaction size to fit within risk limits.\n",
      "2024-04-07 16:17:24,184 - INFO - Transaction approved.\n",
      "2024-04-07 16:17:24,184 - INFO - Executing transaction: Size - 6666.666666666667, Asset - AMZN, Leverage - 3\n",
      "2024-04-07 16:17:24,184 - INFO - Transaction approved.\n",
      "2024-04-07 16:17:24,185 - INFO - Executing transaction: Size - 5000, Asset - AAPL, Leverage - 2\n",
      "2024-04-07 16:17:24,185 - INFO - Transaction modified: Exposure to GOOGL exceeds maximum allowable limit. Modifying transaction size to fit within risk limits.\n",
      "2024-04-07 16:17:24,185 - INFO - Transaction approved.\n",
      "2024-04-07 16:17:24,185 - INFO - Executing transaction: Size - 6666.666666666667, Asset - GOOGL, Leverage - 3\n",
      "2024-04-07 16:17:24,185 - INFO - Transaction rejected: Transaction size exceeds maximum allowable size.\n",
      "2024-04-07 16:17:24,185 - INFO - Transaction rejected: Leverage exceeds maximum allowable limit.\n"
     ]
    },
    {
     "name": "stdout",
     "output_type": "stream",
     "text": [
      "Transaction result: Success\n",
      "Transaction result: Success\n",
      "Transaction result: Success\n",
      "Transaction result: Failure\n",
      "Transaction result: Failure\n"
     ]
    }
   ],
   "source": [
    "import logging\n",
    "\n",
    "# Setup logging\n",
    "logging.basicConfig(level=logging.INFO, format='%(asctime)s - %(levelname)s - %(message)s')\n",
    "\n",
    "# Define Risk Management Criteria\n",
    "MAX_TRANSACTION_SIZE = 50000\n",
    "MAX_LEVERAGE = 4\n",
    "MAX_EXPOSURE_PER_ASSET = 0.2\n",
    "\n",
    "# Implement the Risk Management Decorator\n",
    "def risk_management(func):\n",
    "    def wrapper(*args, **kwargs):\n",
    "        global account_balance  # Access the account balance\n",
    "        transaction_size = kwargs.get('transaction_size')\n",
    "        leverage = kwargs.get('leverage', 1)\n",
    "        asset = kwargs.get('asset')\n",
    "        transaction_result = 'Failure'\n",
    "        return_value = None\n",
    "\n",
    "        # Check transaction size\n",
    "        if transaction_size > MAX_TRANSACTION_SIZE:\n",
    "            logging.info(f\"Transaction rejected: Transaction size exceeds maximum allowable size.\")\n",
    "        # Check leverage\n",
    "        elif leverage > MAX_LEVERAGE:\n",
    "            logging.info(f\"Transaction rejected: Leverage exceeds maximum allowable limit.\")\n",
    "        else:\n",
    "            # Calculate exposure to a single asset\n",
    "            exposure = transaction_size * leverage\n",
    "\n",
    "            # Check exposure to a single asset\n",
    "            if exposure > MAX_EXPOSURE_PER_ASSET * account_balance:\n",
    "                max_exposure = MAX_EXPOSURE_PER_ASSET * account_balance\n",
    "                max_transaction_size = max_exposure / leverage\n",
    "                logging.info(f\"Transaction modified: Exposure to {asset} exceeds maximum allowable limit. Modifying transaction size to fit within risk limits.\")\n",
    "                kwargs['transaction_size'] = max_transaction_size\n",
    "            \n",
    "            logging.info(\"Transaction approved.\")\n",
    "            return_value = func(*args, **kwargs)\n",
    "            transaction_result = 'Success'\n",
    "        print(f\"Transaction result: {transaction_result}\")\n",
    "        return return_value\n",
    "    return wrapper\n",
    "\n",
    "# Transaction Function\n",
    "@risk_management\n",
    "def execute_transaction(transaction_size, asset, leverage=1):\n",
    "    logging.info(f\"Executing transaction: Size - {transaction_size}, Asset - {asset}, Leverage - {leverage}\")\n",
    "\n",
    "# Demonstration and Testing\n",
    "account_balance = 100000  # Account balance\n",
    "# Test transactions\n",
    "execute_transaction(transaction_size=30000, asset='AMZN', leverage=3)\n",
    "execute_transaction(transaction_size=5000, asset='AAPL', leverage=2)\n",
    "execute_transaction(transaction_size=15000, asset='GOOGL', leverage=3)\n",
    "execute_transaction(transaction_size=60000, asset='META', leverage=3)\n",
    "execute_transaction(transaction_size=8000, asset='MSFT', leverage=6)"
   ]
  },
  {
   "cell_type": "code",
   "execution_count": null,
   "id": "0fad9922",
   "metadata": {},
   "outputs": [],
   "source": []
  }
 ],
 "metadata": {
  "kernelspec": {
   "display_name": "Python 3 (ipykernel)",
   "language": "python",
   "name": "python3"
  },
  "language_info": {
   "codemirror_mode": {
    "name": "ipython",
    "version": 3
   },
   "file_extension": ".py",
   "mimetype": "text/x-python",
   "name": "python",
   "nbconvert_exporter": "python",
   "pygments_lexer": "ipython3",
   "version": "3.11.8"
  },
  "toc": {
   "base_numbering": 1,
   "nav_menu": {},
   "number_sections": true,
   "sideBar": true,
   "skip_h1_title": false,
   "title_cell": "Table of Contents",
   "title_sidebar": "Contents",
   "toc_cell": true,
   "toc_position": {},
   "toc_section_display": true,
   "toc_window_display": true
  }
 },
 "nbformat": 4,
 "nbformat_minor": 5
}
